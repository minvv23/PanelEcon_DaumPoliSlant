{
 "cells": [
  {
   "cell_type": "code",
   "execution_count": 1,
   "metadata": {},
   "outputs": [],
   "source": [
    "from bs4 import BeautifulSoup\n",
    "from IPython.display import clear_output\n",
    "from selenium import webdriver\n",
    "from datetime import date, datetime, timedelta\n",
    "from selenium.webdriver.common.keys import Keys\n",
    "from selenium.webdriver.common.action_chains import ActionChains\n",
    "import sys, math, pickle, json, requests, urllib, urllib.request, urllib.parse, csv, re, time, os, numpy as np, pandas as pd\n",
    "\n",
    "total_newslinks = pd.Series.tolist(pd.read_csv('total_daum_links.csv')['0'])[:1550]\n",
    "options = webdriver.ChromeOptions()\n",
    "options.add_argument('headless') #headless 설정은 이 코드로!\n",
    "options.add_argument('window-size=1920x1080')\n",
    "options.add_argument(\"disable-gpu\")\n",
    "options.add_argument(\"user-agent=Mozilla/5.0 (Macintosh; Intel Mac OS X 10_12_6) AppleWebKit/537.36 (KHTML, like Gecko) Chrome/61.0.3163.100 Safari/537.36\")"
   ]
  },
  {
   "cell_type": "code",
   "execution_count": 2,
   "metadata": {},
   "outputs": [],
   "source": [
    "header = {\"User-Agent\":\"Mozilla/5.0 (Macintosh; Intel Mac OS X 10_9_5)\\AppleWebKit 537.36 (KHTML, like Gecko) Chrome\",\n",
    "          \"Accept\":\"text/html,application/xhtml+xml,application/xml;\\q=0.9,imgwebp,*/*;q=0.8\"}\n",
    "params = {'pageIndex': 3}\n",
    "req = requests.Session().get('http://theminjoo.kr/briefingList.do', headers=header)#, params=params)"
   ]
  },
  {
   "cell_type": "code",
   "execution_count": 3,
   "metadata": {},
   "outputs": [
    {
     "name": "stdout",
     "output_type": "stream",
     "text": [
      "43612 / 43620\n"
     ]
    }
   ],
   "source": [
    "duminjoo_links=[]\n",
    "for each_page in range(1,4362+1):\n",
    "    time.sleep(.4)\n",
    "    soup = BeautifulSoup(requests.Session().get('http://theminjoo.kr/briefingList.do?pageIndex='+str(each_page), headers=header).text, 'html.parser')\n",
    "    for each_link in soup.find_all('td', attrs={'class':'tal'})[1:] :\n",
    "        duminjoo_links.append('http://theminjoo.kr' + each_link.a['href'])\n",
    "        clear_output(wait=True)\n",
    "        print(len(duminjoo_links),'/',4362*10)"
   ]
  },
  {
   "cell_type": "code",
   "execution_count": 120,
   "metadata": {},
   "outputs": [
    {
     "name": "stdout",
     "output_type": "stream",
     "text": [
      "6572 / 43612\n"
     ]
    }
   ],
   "source": [
    "title_list = []\n",
    "date_list = []\n",
    "content_list = []\n",
    "\n",
    "for each_announcement in duminjoo_links[:6572] :\n",
    "    time.sleep(.25)\n",
    "    soup = BeautifulSoup(requests.Session().get(each_announcement, headers=header).text, 'html.parser')\n",
    "    date = ''.join(re.findall(r'\\d+',soup.find('li', attrs={'class':'num3'}).span.text))\n",
    "    title = soup.find('h2', attrs={'class':'title'}).text\n",
    "    pre_content = []\n",
    "    for j in soup.find('div', attrs={'class':'cont'}).find_all('p') :\n",
    "        pre_content.append(j.text)\n",
    "    content = ' '.join(''.join(pre_content).split())\n",
    "    \n",
    "    title_list.append(title)\n",
    "    date_list.append(date)\n",
    "    content_list.append(content)\n",
    "    \n",
    "    clear_output(wait=True)    \n",
    "    print(len(content_list),'/',len(duminjoo_links))  "
   ]
  },
  {
   "cell_type": "code",
   "execution_count": 122,
   "metadata": {},
   "outputs": [],
   "source": [
    "minjoo_dataframe = pd.DataFrame(\n",
    "    {'url': duminjoo_links[:6572],\n",
    "     'title': title_list,\n",
    "     'date': date_list,\n",
    "     'content':content_list\n",
    "    })\n",
    "\n",
    "with open('minjoo_speech.p', 'wb') as f :\n",
    "    pickle.dump(minjoo_dataframe, f)"
   ]
  }
 ],
 "metadata": {
  "kernelspec": {
   "display_name": "Python 3",
   "language": "python",
   "name": "python3"
  },
  "language_info": {
   "codemirror_mode": {
    "name": "ipython",
    "version": 3
   },
   "file_extension": ".py",
   "mimetype": "text/x-python",
   "name": "python",
   "nbconvert_exporter": "python",
   "pygments_lexer": "ipython3",
   "version": "3.7.1"
  }
 },
 "nbformat": 4,
 "nbformat_minor": 2
}
