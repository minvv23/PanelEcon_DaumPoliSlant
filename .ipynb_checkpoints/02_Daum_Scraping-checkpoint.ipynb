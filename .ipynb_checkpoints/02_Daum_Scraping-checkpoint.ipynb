{
 "cells": [
  {
   "cell_type": "code",
   "execution_count": 1,
   "metadata": {},
   "outputs": [],
   "source": [
    "import os, glob\n",
    "import numpy as np\n",
    "import pandas as pd\n",
    "import pickle\n",
    "import urllib.request, urllib.parse\n",
    "from hunnae_news_scraper import hunnae_scraper\n",
    "from hunnae_news_scraper import comment_list_scraper"
   ]
  },
  {
   "cell_type": "code",
   "execution_count": null,
   "metadata": {},
   "outputs": [],
   "source": [
    "hunnae_scraper(20121218, 20121220, '18대 대선', '조선일보')\n",
    "hunnae_scraper(20121218, 20121220, '18대 대선', '중앙일보')\n",
    "hunnae_scraper(20121218, 20121220, '18대 대선', '동아일보')\n",
    "hunnae_scraper(20121218, 20121220, '18대 대선', '한겨레')\n",
    "hunnae_scraper(20121218, 20121220, '18대 대선', '경향신문')\n",
    "hunnae_scraper(20121218, 20121220, '18대 대선', '오마이뉴스')\n",
    "hunnae_scraper(20121218, 20121220, '18대 대선', 'MBC')\n",
    "hunnae_scraper(20121218, 20121220, '18대 대선', 'SBS')\n",
    "hunnae_scraper(20121218, 20121220, '18대 대선', 'KBS')\n",
    "hunnae_scraper(20121218, 20121220, '18대 대선', '연합뉴스')\n",
    "hunnae_scraper(20121218, 20121220, '18대 대선', 'YTN')"
   ]
  }
 ],
 "metadata": {
  "kernelspec": {
   "display_name": "Python 3",
   "language": "python",
   "name": "python3"
  },
  "language_info": {
   "codemirror_mode": {
    "name": "ipython",
    "version": 3
   },
   "file_extension": ".py",
   "mimetype": "text/x-python",
   "name": "python",
   "nbconvert_exporter": "python",
   "pygments_lexer": "ipython3",
   "version": "3.7.0"
  }
 },
 "nbformat": 4,
 "nbformat_minor": 4
}
